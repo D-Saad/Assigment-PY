{
 "cells": [
  {
   "cell_type": "code",
   "execution_count": 8,
   "metadata": {},
   "outputs": [
    {
     "name": "stdout",
     "output_type": "stream",
     "text": [
      "Twinkle, twinkle,little star,\n",
      "\t how I wonder what you are! \n",
      "\t\tup above the world so high,\n",
      "\t\tLike a diamond in the sky\n",
      "Twinkle, twinkle,little star,\n",
      "\t how I wonder what you are! \n"
     ]
    }
   ],
   "source": [
    "#Assignment Q1\n",
    "print( \"Twinkle, twinkle,little star,\\n\\t how I wonder what you are! \")\n",
    "print(\"\\t\\tup above the world so high,\\n\\t\\tLike a diamond in the sky\")\n",
    "print( \"Twinkle, twinkle,little star,\\n\\t how I wonder what you are! \")"
   ]
  },
  {
   "cell_type": "code",
   "execution_count": 11,
   "metadata": {},
   "outputs": [
    {
     "name": "stdout",
     "output_type": "stream",
     "text": [
      "Enter the radius of circle:2\n",
      "The Area of the circle is found to be:\n",
      "12.56\n"
     ]
    }
   ],
   "source": [
    "#Assignment Q4\n",
    "r=int(input(\"Enter the radius of circle:\"))\n",
    "A=(r*r)*(3.14)\n",
    "print(\"The Area of the circle is found to be:\")\n",
    "print(A)"
   ]
  },
  {
   "cell_type": "code",
   "execution_count": 24,
   "metadata": {},
   "outputs": [
    {
     "name": "stdout",
     "output_type": "stream",
     "text": [
      "Enter your first name:JAMES\n",
      "Enter your last name: HENRY\n",
      "Nice to meet you MR/MIss\n",
      "HENRY JAMES\n"
     ]
    }
   ],
   "source": [
    "#Assignment Q5\n",
    "first_name=input(\"Enter your first name:\")\n",
    "last_name=input(\"Enter your last name: \")\n",
    "print(\"Nice to meet you MR/MIss\")\n",
    "print(last_name,first_name)"
   ]
  },
  {
   "cell_type": "code",
   "execution_count": 23,
   "metadata": {},
   "outputs": [
    {
     "name": "stdout",
     "output_type": "stream",
     "text": [
      "Enter a number:1\n",
      "Enter another:2\n",
      "The numbers add to give: 3\n"
     ]
    }
   ],
   "source": [
    "#Assignment Q6\n",
    "a=int(input(\"Enter a number:\"))\n",
    "b=int(input(\"Enter another:\"))\n",
    "c=a+b\n",
    "print(\"The numbers add to give:\",c)"
   ]
  },
  {
   "cell_type": "code",
   "execution_count": 1,
   "metadata": {},
   "outputs": [
    {
     "name": "stdout",
     "output_type": "stream",
     "text": [
      "Python version\n",
      "3.7.4 (default, Aug  9 2019, 18:34:13) [MSC v.1915 64 bit (AMD64)]\n",
      "Version info.\n",
      "sys.version_info(major=3, minor=7, micro=4, releaselevel='final', serial=0)\n"
     ]
    }
   ],
   "source": [
    "#Assignment Q2\n",
    "import sys\n",
    "print(\"Python version\")\n",
    "print (sys.version)\n",
    "print(\"Version info.\")\n",
    "print (sys.version_info)\n"
   ]
  },
  {
   "cell_type": "code",
   "execution_count": 2,
   "metadata": {},
   "outputs": [
    {
     "name": "stdout",
     "output_type": "stream",
     "text": [
      "Current date and time : \n",
      "2019-11-04 19:02:12\n"
     ]
    }
   ],
   "source": [
    "#Assignment Q3\n",
    "import datetime\n",
    "now = datetime.datetime.now()\n",
    "print (\"Current date and time : \")\n",
    "print (now.strftime(\"%Y-%m-%d %H:%M:%S\"))\n"
   ]
  },
  {
   "cell_type": "code",
   "execution_count": null,
   "metadata": {},
   "outputs": [],
   "source": []
  }
 ],
 "metadata": {
  "kernelspec": {
   "display_name": "Python 3",
   "language": "python",
   "name": "python3"
  },
  "language_info": {
   "codemirror_mode": {
    "name": "ipython",
    "version": 3
   },
   "file_extension": ".py",
   "mimetype": "text/x-python",
   "name": "python",
   "nbconvert_exporter": "python",
   "pygments_lexer": "ipython3",
   "version": "3.7.4"
  }
 },
 "nbformat": 4,
 "nbformat_minor": 2
}
